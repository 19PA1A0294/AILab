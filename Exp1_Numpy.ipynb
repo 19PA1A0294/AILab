{
  "nbformat": 4,
  "nbformat_minor": 0,
  "metadata": {
    "colab": {
      "name": "Exp1_Numpy.ipynb",
      "provenance": [],
      "collapsed_sections": [],
      "include_colab_link": true
    },
    "kernelspec": {
      "name": "python3",
      "display_name": "Python 3"
    }
  },
  "cells": [
    {
      "cell_type": "markdown",
      "metadata": {
        "id": "view-in-github",
        "colab_type": "text"
      },
      "source": [
        "<a href=\"https://colab.research.google.com/github/19PA1A0294/AILab/blob/master/Exp1_Numpy.ipynb\" target=\"_parent\"><img src=\"https://colab.research.google.com/assets/colab-badge.svg\" alt=\"Open In Colab\"/></a>"
      ]
    },
    {
      "cell_type": "markdown",
      "metadata": {
        "id": "irAA-oI98lb1",
        "colab_type": "text"
      },
      "source": [
        "# **\"Experiment 1: Numpy\"**"
      ]
    },
    {
      "cell_type": "markdown",
      "metadata": {
        "id": "SA3ohuu78tOe",
        "colab_type": "text"
      },
      "source": [
        "## **i) Different ways to create a Numpy arrays**"
      ]
    },
    {
      "cell_type": "markdown",
      "metadata": {
        "id": "LOTliF80X5FN",
        "colab_type": "text"
      },
      "source": [
        "**a)create a numpy array using List**"
      ]
    },
    {
      "cell_type": "code",
      "metadata": {
        "id": "40qDiFYl86pO",
        "colab_type": "code",
        "colab": {
          "base_uri": "https://localhost:8080/",
          "height": 51
        },
        "outputId": "c82f4476-e656-497d-cf50-d8a37b34d26e"
      },
      "source": [
        "import numpy as np\n",
        "a=np.array( [[1,2,3],[4,5,6]])\n",
        "print(a)"
      ],
      "execution_count": 4,
      "outputs": [
        {
          "output_type": "stream",
          "text": [
            "[[1 2 3]\n",
            " [4 5 6]]\n"
          ],
          "name": "stdout"
        }
      ]
    },
    {
      "cell_type": "markdown",
      "metadata": {
        "id": "W5--iARKYK8i",
        "colab_type": "text"
      },
      "source": [
        "**b)Create a numpy array using arange function**"
      ]
    },
    {
      "cell_type": "code",
      "metadata": {
        "id": "Q3Hlrjl5YQrq",
        "colab_type": "code",
        "colab": {
          "base_uri": "https://localhost:8080/",
          "height": 51
        },
        "outputId": "847bd330-f3c8-4c1f-dc07-e6ce832646f7"
      },
      "source": [
        "a=np.array([[1,2,3],[98,99,100]])\n",
        "print(a)"
      ],
      "execution_count": 11,
      "outputs": [
        {
          "output_type": "stream",
          "text": [
            "[[  1   2   3]\n",
            " [ 98  99 100]]\n"
          ],
          "name": "stdout"
        }
      ]
    },
    {
      "cell_type": "markdown",
      "metadata": {
        "id": "_qsTV8gG5Ude",
        "colab_type": "text"
      },
      "source": [
        "## **ii)ADD,remove,modify,array elements** "
      ]
    },
    {
      "cell_type": "markdown",
      "metadata": {
        "id": "Nhmt3emGZrm7",
        "colab_type": "text"
      },
      "source": [
        "**a)Create a numpy array using add function.**"
      ]
    },
    {
      "cell_type": "code",
      "metadata": {
        "id": "fmKdcoA4BnLl",
        "colab_type": "code",
        "colab": {
          "base_uri": "https://localhost:8080/",
          "height": 34
        },
        "outputId": "f97224d1-11f5-49ca-e717-603f319e262b"
      },
      "source": [
        "a=np.array([1,2,3])\n",
        "b=np.append(a,[10,20,30])\n",
        "print(b)"
      ],
      "execution_count": 12,
      "outputs": [
        {
          "output_type": "stream",
          "text": [
            "[ 1  2  3 10 20 30]\n"
          ],
          "name": "stdout"
        }
      ]
    },
    {
      "cell_type": "markdown",
      "metadata": {
        "id": "DjBUYsstCR54",
        "colab_type": "text"
      },
      "source": [
        "**b)Create a numpy array using remove function.**"
      ]
    },
    {
      "cell_type": "code",
      "metadata": {
        "id": "2TEJj2mACVb3",
        "colab_type": "code",
        "colab": {
          "base_uri": "https://localhost:8080/",
          "height": 34
        },
        "outputId": "b42f0518-dfb2-47c8-a722-00eb2ef698fa"
      },
      "source": [
        "c=np.delete(a,2)\n",
        "print(c)"
      ],
      "execution_count": 13,
      "outputs": [
        {
          "output_type": "stream",
          "text": [
            "[1 2]\n"
          ],
          "name": "stdout"
        }
      ]
    },
    {
      "cell_type": "markdown",
      "metadata": {
        "id": "Ve93Dd_bCfan",
        "colab_type": "text"
      },
      "source": [
        "**c)Create a numpy array using remove function.**"
      ]
    },
    {
      "cell_type": "code",
      "metadata": {
        "id": "S1i4M52sChrT",
        "colab_type": "code",
        "colab": {
          "base_uri": "https://localhost:8080/",
          "height": 34
        },
        "outputId": "7f623550-ba2c-4065-f77d-c6c10342ad33"
      },
      "source": [
        "c[c<5]=-1\n",
        "print(c)"
      ],
      "execution_count": 15,
      "outputs": [
        {
          "output_type": "stream",
          "text": [
            "[-1 -1]\n"
          ],
          "name": "stdout"
        }
      ]
    },
    {
      "cell_type": "markdown",
      "metadata": {
        "id": "TKVUAoaUCuce",
        "colab_type": "text"
      },
      "source": [
        "## **iii)Arthematic operations on Numpy array**"
      ]
    },
    {
      "cell_type": "code",
      "metadata": {
        "id": "_myRVt9fC6Q4",
        "colab_type": "code",
        "colab": {
          "base_uri": "https://localhost:8080/",
          "height": 102
        },
        "outputId": "2e2b9f3b-887f-4f9c-f479-e5727dd37f08"
      },
      "source": [
        "import numpy as np\n",
        "a=([1,2,3])\n",
        "b=([4,5,6])\n",
        "num_sum = np.add(a,b)\n",
        "num_diff = np.subtract(a,b)\n",
        "num_quo = np.divide(a,b)\n",
        "num_mod = np.mod(a,b)\n",
        "num_pow = np.power(a,b)\n",
        "print(num_sum)\n",
        "print(num_diff)\n",
        "print(num_quo)\n",
        "print(num_mod)\n",
        "print(num_pow)"
      ],
      "execution_count": 16,
      "outputs": [
        {
          "output_type": "stream",
          "text": [
            "[5 7 9]\n",
            "[-3 -3 -3]\n",
            "[0.25 0.4  0.5 ]\n",
            "[1 2 3]\n",
            "[  1  32 729]\n"
          ],
          "name": "stdout"
        }
      ]
    },
    {
      "cell_type": "markdown",
      "metadata": {
        "id": "oTY8FhXvFpHW",
        "colab_type": "text"
      },
      "source": [
        "## **iv)Slicing and iterating of numpy arrays.**"
      ]
    },
    {
      "cell_type": "markdown",
      "metadata": {
        "id": "lNssLs_PGDTa",
        "colab_type": "text"
      },
      "source": [
        "**a)Create a numpy array using Slicing function.**"
      ]
    },
    {
      "cell_type": "code",
      "metadata": {
        "id": "UzPoxn_JGFVZ",
        "colab_type": "code",
        "colab": {
          "base_uri": "https://localhost:8080/",
          "height": 34
        },
        "outputId": "cc586566-da19-4221-de46-95bfdec543bc"
      },
      "source": [
        "import numpy as np\n",
        "arr=np.array([1,2,3,4,5,6,7,8,9,10])\n",
        "print(arr[1:8])"
      ],
      "execution_count": 17,
      "outputs": [
        {
          "output_type": "stream",
          "text": [
            "[2 3 4 5 6 7 8]\n"
          ],
          "name": "stdout"
        }
      ]
    },
    {
      "cell_type": "markdown",
      "metadata": {
        "id": "VENi7cJ-GZs0",
        "colab_type": "text"
      },
      "source": [
        "**b)Create a numpy array using iterating function.**"
      ]
    },
    {
      "cell_type": "code",
      "metadata": {
        "id": "q0AGQ5tyGa6S",
        "colab_type": "code",
        "colab": {
          "base_uri": "https://localhost:8080/",
          "height": 187
        },
        "outputId": "c257aaa7-4b77-4c7d-9316-84bd4360c7b6"
      },
      "source": [
        "for x in arr:\n",
        "  print(x)"
      ],
      "execution_count": 18,
      "outputs": [
        {
          "output_type": "stream",
          "text": [
            "1\n",
            "2\n",
            "3\n",
            "4\n",
            "5\n",
            "6\n",
            "7\n",
            "8\n",
            "9\n",
            "10\n"
          ],
          "name": "stdout"
        }
      ]
    },
    {
      "cell_type": "markdown",
      "metadata": {
        "id": "wcCr1l_iGl2x",
        "colab_type": "text"
      },
      "source": [
        "## **v)Matrix operations on numpy arrays**"
      ]
    },
    {
      "cell_type": "code",
      "metadata": {
        "id": "2Oc_VFfrGufP",
        "colab_type": "code",
        "colab": {
          "base_uri": "https://localhost:8080/",
          "height": 119
        },
        "outputId": "d26ec648-3bc9-4353-b5bc-cee997265f8f"
      },
      "source": [
        "import numpy as np\n",
        "a=np.array([[1,2],[3,4]])\n",
        "b=np.array([[5,6],[7,8]])\n",
        "print(np.add(a,b))\n",
        "print(np.subtract(a,b))\n",
        "print(np.divide(a,b))"
      ],
      "execution_count": 19,
      "outputs": [
        {
          "output_type": "stream",
          "text": [
            "[[ 6  8]\n",
            " [10 12]]\n",
            "[[-4 -4]\n",
            " [-4 -4]]\n",
            "[[0.2        0.33333333]\n",
            " [0.42857143 0.5       ]]\n"
          ],
          "name": "stdout"
        }
      ]
    }
  ]
}