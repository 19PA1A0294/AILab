{
  "nbformat": 4,
  "nbformat_minor": 0,
  "metadata": {
    "colab": {
      "name": "Exp-2_Pandas.ipynb",
      "provenance": [],
      "authorship_tag": "ABX9TyNUM+ncsUFVWY6lEGOuk+VT",
      "include_colab_link": true
    },
    "kernelspec": {
      "name": "python3",
      "display_name": "Python 3"
    },
    "accelerator": "GPU"
  },
  "cells": [
    {
      "cell_type": "markdown",
      "metadata": {
        "id": "view-in-github",
        "colab_type": "text"
      },
      "source": [
        "<a href=\"https://colab.research.google.com/github/19PA1A0294/AILab/blob/master/Exp_2_Pandas.ipynb\" target=\"_parent\"><img src=\"https://colab.research.google.com/assets/colab-badge.svg\" alt=\"Open In Colab\"/></a>"
      ]
    },
    {
      "cell_type": "markdown",
      "metadata": {
        "id": "dM8oKXdcgjdY",
        "colab_type": "text"
      },
      "source": [
        "# **\"Experiment No 2 : Pandas\"**"
      ]
    },
    {
      "cell_type": "markdown",
      "metadata": {
        "id": "k-9KgR3dgwL_",
        "colab_type": "text"
      },
      "source": [
        "## **1)Create a data frame manually**"
      ]
    },
    {
      "cell_type": "code",
      "metadata": {
        "id": "4DxMaiDyg7kg",
        "colab_type": "code",
        "colab": {}
      },
      "source": [
        "import pandas as pd\n",
        "import numpy as np"
      ],
      "execution_count": null,
      "outputs": []
    },
    {
      "cell_type": "code",
      "metadata": {
        "id": "cke0CMv7hG_8",
        "colab_type": "code",
        "colab": {}
      },
      "source": [
        "data = {'Roll No':['286','294', '295'], 'Name':['Divaker','Yogendra','Raghavendra']}\n",
        "df = pd.DataFrame(data=data)\n",
        "df"
      ],
      "execution_count": null,
      "outputs": []
    },
    {
      "cell_type": "markdown",
      "metadata": {
        "id": "OR2f48dfhlCk",
        "colab_type": "text"
      },
      "source": [
        "## **2)Import data into a dataframe**"
      ]
    },
    {
      "cell_type": "code",
      "metadata": {
        "id": "jk3n5bMGwADP",
        "colab_type": "code",
        "colab": {}
      },
      "source": [
        "df=pd.read_excel(\"students_placement_data.csv\")\n"
      ],
      "execution_count": null,
      "outputs": []
    },
    {
      "cell_type": "code",
      "metadata": {
        "id": "3K1MLLniwMch",
        "colab_type": "code",
        "colab": {}
      },
      "source": [
        "df.head()"
      ],
      "execution_count": null,
      "outputs": []
    },
    {
      "cell_type": "code",
      "metadata": {
        "id": "Gdwq1AsvwoN4",
        "colab_type": "code",
        "colab": {}
      },
      "source": [
        "df.isna().any()"
      ],
      "execution_count": null,
      "outputs": []
    },
    {
      "cell_type": "code",
      "metadata": {
        "id": "m7MmqMTAxEIb",
        "colab_type": "code",
        "colab": {}
      },
      "source": [
        "\n",
        "df.shape"
      ],
      "execution_count": null,
      "outputs": []
    },
    {
      "cell_type": "code",
      "metadata": {
        "id": "dBc1nZQXxKxT",
        "colab_type": "code",
        "colab": {}
      },
      "source": [
        "\n",
        "df.describe"
      ],
      "execution_count": null,
      "outputs": []
    },
    {
      "cell_type": "markdown",
      "metadata": {
        "id": "MyC-LLWzxVuz",
        "colab_type": "text"
      },
      "source": [
        "## **3)Adding , Deleting , Modifying the rows/columns in a dataframe**"
      ]
    },
    {
      "cell_type": "markdown",
      "metadata": {
        "id": "qu6LM3mkxZB0",
        "colab_type": "text"
      },
      "source": [
        "### **3.1) Adding a column**"
      ]
    },
    {
      "cell_type": "code",
      "metadata": {
        "id": "kYoa_45mxi0c",
        "colab_type": "code",
        "colab": {}
      },
      "source": [
        "host_day = pd.read_excel(\"hostlers_day_scholars.csv\")\n"
      ],
      "execution_count": null,
      "outputs": []
    },
    {
      "cell_type": "code",
      "metadata": {
        "id": "rAFo7Vde20Vb",
        "colab_type": "code",
        "colab": {}
      },
      "source": [
        "host_day.head()"
      ],
      "execution_count": null,
      "outputs": []
    },
    {
      "cell_type": "code",
      "metadata": {
        "id": "GuaRqk7s265B",
        "colab_type": "code",
        "colab": {}
      },
      "source": [
        "df[\"hostlers/days scholar\"]=host_day.values\n",
        "df.head()"
      ],
      "execution_count": null,
      "outputs": []
    },
    {
      "cell_type": "markdown",
      "metadata": {
        "id": "dUAgykK23GRP",
        "colab_type": "text"
      },
      "source": [
        "### **3.2) Deleting a column**"
      ]
    },
    {
      "cell_type": "code",
      "metadata": {
        "id": "IQq34O033M_x",
        "colab_type": "code",
        "colab": {}
      },
      "source": [
        "del df[\"registered_for_ Placement_Training\"]\n",
        "df.head()"
      ],
      "execution_count": null,
      "outputs": []
    },
    {
      "cell_type": "markdown",
      "metadata": {
        "id": "SNh65pAe3SXo",
        "colab_type": "text"
      },
      "source": [
        "### **3.3) Adding a row**"
      ]
    },
    {
      "cell_type": "code",
      "metadata": {
        "id": "kE3INNQ83XeB",
        "colab_type": "code",
        "colab": {}
      },
      "source": [
        "df1 = pd.DataFrame({\"Rollno\":[118],\"Gender\":[\"F\"],\"Section\":[\"C\"],\"SSC Percentage\":[98.4],\"inter_Diploma_peecentage\":[99],\"B.Tech_percentage\":[75],\"Backlogs\":[0],\"registered_for_Placement_Training\":[\"Not applicable\"],\"hostler/day's scholar\":[\"hostler\"],\"placement_status\":[\"Not placed\"]})\n",
        "df1"
      ],
      "execution_count": null,
      "outputs": []
    },
    {
      "cell_type": "code",
      "metadata": {
        "id": "vAS3lpEy3k18",
        "colab_type": "code",
        "colab": {}
      },
      "source": [
        "df = df.append(df1)\n",
        "df.head()"
      ],
      "execution_count": null,
      "outputs": []
    },
    {
      "cell_type": "markdown",
      "metadata": {
        "id": "nJdxYcHv3p_q",
        "colab_type": "text"
      },
      "source": [
        "### **3.4) Deleting a row**"
      ]
    },
    {
      "cell_type": "code",
      "metadata": {
        "id": "6wDYDqRf3uk0",
        "colab_type": "code",
        "colab": {}
      },
      "source": [
        "df=df.drop(3)\n",
        "df.head()"
      ],
      "execution_count": null,
      "outputs": []
    },
    {
      "cell_type": "markdown",
      "metadata": {
        "id": "sLN5P3yS34HE",
        "colab_type": "text"
      },
      "source": [
        "### **3.5) Modifying elements**"
      ]
    },
    {
      "cell_type": "code",
      "metadata": {
        "id": "_t4fKrYc3827",
        "colab_type": "code",
        "colab": {}
      },
      "source": [
        "df.loc[1,\"hostlers/days scholar\"] = \"hostler\"\n",
        "df.head()"
      ],
      "execution_count": null,
      "outputs": []
    },
    {
      "cell_type": "markdown",
      "metadata": {
        "id": "lJ17XDfj4AfZ",
        "colab_type": "text"
      },
      "source": [
        "## **4) Applying functions on a dataframe**"
      ]
    },
    {
      "cell_type": "code",
      "metadata": {
        "id": "x825uN-x4HEr",
        "colab_type": "code",
        "colab": {}
      },
      "source": [
        "def gracep(x):\n",
        "  if (x<70):\n",
        "     return (x+0.05)\n",
        "  else:\n",
        "     return (x)"
      ],
      "execution_count": null,
      "outputs": []
    },
    {
      "cell_type": "code",
      "metadata": {
        "id": "FUvMdeVW4M8D",
        "colab_type": "code",
        "colab": {}
      },
      "source": [
        "df[\"B.Tech_percentage\"]=df[\"B.Tech_percentage\"].apply(gracep)\n",
        "df.head()"
      ],
      "execution_count": null,
      "outputs": []
    },
    {
      "cell_type": "markdown",
      "metadata": {
        "id": "NehufhxZ4RAC",
        "colab_type": "text"
      },
      "source": [
        "## **5) Iterations on dataframe**"
      ]
    },
    {
      "cell_type": "code",
      "metadata": {
        "id": "felqp8LQ4W2k",
        "colab_type": "code",
        "colab": {}
      },
      "source": [
        "for index,rows in df[df[\"B.Tech_percentage\"]>=80].iterrows():\n",
        "   print(rows[\"Roll No\"]),\"-\",(rows[\"B.Tech_percentage\"])"
      ],
      "execution_count": null,
      "outputs": []
    },
    {
      "cell_type": "markdown",
      "metadata": {
        "id": "PfoOBqJS4bdT",
        "colab_type": "text"
      },
      "source": [
        "## **6) Accessing elements from a dataframe**"
      ]
    },
    {
      "cell_type": "code",
      "metadata": {
        "id": "95yS-jiu4gi9",
        "colab_type": "code",
        "colab": {}
      },
      "source": [
        "df.loc[[1,2],[\"SSC Percentage\",\"inter_percentage\"]]"
      ],
      "execution_count": null,
      "outputs": []
    },
    {
      "cell_type": "markdown",
      "metadata": {
        "id": "3p1Nn3YC4qmq",
        "colab_type": "text"
      },
      "source": [
        "## **7) Different ways to deal with NA's in dataframe**"
      ]
    },
    {
      "cell_type": "code",
      "metadata": {
        "id": "Z6NEd3VV4zpp",
        "colab_type": "code",
        "colab": {}
      },
      "source": [
        "df[\"SSC Percentage\"]=df[\"SSC Percentage\"].replace(to_replace=np.nan,value=np.mean(df[\"SSC Percentage\"]))\n",
        "df.head()"
      ],
      "execution_count": null,
      "outputs": []
    },
    {
      "cell_type": "markdown",
      "metadata": {
        "id": "DAOKpRA75Dba",
        "colab_type": "text"
      },
      "source": [
        "## **8) Groupby operations on dataframe**"
      ]
    },
    {
      "cell_type": "code",
      "metadata": {
        "id": "ewne5QaY5J5r",
        "colab_type": "code",
        "colab": {}
      },
      "source": [
        "group = df.groupby(\"Gender\")\n",
        "group[\"B.Tech_percentage\"].agg(np.mean)"
      ],
      "execution_count": null,
      "outputs": []
    },
    {
      "cell_type": "markdown",
      "metadata": {
        "id": "-lep2uYh5OQ5",
        "colab_type": "text"
      },
      "source": [
        "## **9) Merging the dataframes**"
      ]
    },
    {
      "cell_type": "code",
      "metadata": {
        "id": "ygKglUWz5SpL",
        "colab_type": "code",
        "colab": {}
      },
      "source": [
        "df2 = pd.read_excel(\"urban_rural.csv\")\n",
        "df2.head()"
      ],
      "execution_count": null,
      "outputs": []
    },
    {
      "cell_type": "code",
      "metadata": {
        "id": "QrZKKKbk6TxN",
        "colab_type": "code",
        "colab": {}
      },
      "source": [
        "df = pd.merge(df,df2,on = \"Roll No\")\n",
        "df.head()"
      ],
      "execution_count": null,
      "outputs": []
    }
  ]
}